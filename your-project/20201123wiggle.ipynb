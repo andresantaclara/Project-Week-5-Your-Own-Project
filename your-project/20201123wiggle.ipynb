{
 "cells": [
  {
   "cell_type": "markdown",
   "metadata": {},
   "source": [
    "# **Libraries used**"
   ]
  },
  {
   "cell_type": "code",
   "execution_count": 48,
   "metadata": {},
   "outputs": [],
   "source": [
    "from selenium import webdriver\n",
    "from bs4 import BeautifulSoup\n",
    "import time\n",
    "import os \n",
    "import re\n",
    "import pandas as pd\n",
    "import requests\n",
    "import seaborn as sns\n",
    "import numpy as np\n",
    "import scipy.stats as stats"
   ]
  },
  {
   "cell_type": "markdown",
   "metadata": {},
   "source": [
    "# Web Scrapping & Initial Data Cleaning"
   ]
  },
  {
   "cell_type": "markdown",
   "metadata": {},
   "source": [
    "### Main MTB helmets page. with No sub-categories"
   ]
  },
  {
   "cell_type": "code",
   "execution_count": 49,
   "metadata": {},
   "outputs": [],
   "source": [
    "baseUrl = \"https://www.chainreactioncycles.com/mtb/helmets?f=2072&page={}\"\n",
    "nPages = 6"
   ]
  },
  {
   "cell_type": "code",
   "execution_count": 50,
   "metadata": {},
   "outputs": [],
   "source": [
    "name = []\n",
    "price = []\n",
    "oldPrice = []\n",
    "\n",
    "for i in range(1,nPages+1):\n",
    "    page = BeautifulSoup(requests.get(baseUrl.format(i)).content, \"html.parser\")\n",
    "    \n",
    "    for item_selector in page.select(\".products_details.product_details_plp\"):\n",
    "        name.append(item_selector.h2.text.strip())\n",
    "        try: price.append(item_selector.select_one(\".fromamt\").text.strip())\n",
    "        except: price.append(\"undefined\")\n",
    "        \n",
    "        try: oldPrice.append(item_selector.select_one(\".rrpamount\").text.strip())\n",
    "        except: oldPrice.append(\"Undefined\")\n"
   ]
  },
  {
   "cell_type": "markdown",
   "metadata": {},
   "source": [
    "* original name"
   ]
  },
  {
   "cell_type": "code",
   "execution_count": 51,
   "metadata": {},
   "outputs": [],
   "source": [
    "names = name"
   ]
  },
  {
   "cell_type": "markdown",
   "metadata": {},
   "source": [
    "* **Cleaning prices**"
   ]
  },
  {
   "cell_type": "code",
   "execution_count": 52,
   "metadata": {
    "scrolled": true
   },
   "outputs": [
    {
     "data": {
      "text/plain": [
       "229"
      ]
     },
     "execution_count": 52,
     "metadata": {},
     "output_type": "execute_result"
    }
   ],
   "source": [
    "clean_prices = []\n",
    "\n",
    "for i in price: \n",
    "    try: clean_prices.append(re.findall(r\"\\d{1,3}\\.\\d{2}\",i)[0])\n",
    "    except: clean_prices.append(\"0\")\n",
    "\n",
    "len(clean_prices)    "
   ]
  },
  {
   "cell_type": "markdown",
   "metadata": {},
   "source": [
    "* **Cleaning oldPrice**"
   ]
  },
  {
   "cell_type": "code",
   "execution_count": 53,
   "metadata": {
    "scrolled": true
   },
   "outputs": [
    {
     "data": {
      "text/plain": [
       "229"
      ]
     },
     "execution_count": 53,
     "metadata": {},
     "output_type": "execute_result"
    }
   ],
   "source": [
    "clean_oldprices = []\n",
    "for i in oldPrice: \n",
    "    try: clean_oldprices.append(re.findall(r\"\\d{1,3}\\.\\d{2}\",i)[0])\n",
    "    except: clean_oldprices.append(0)\n",
    "\n",
    "len(clean_oldprices)"
   ]
  },
  {
   "cell_type": "markdown",
   "metadata": {},
   "source": [
    "* **Creating a list of brands**"
   ]
  },
  {
   "cell_type": "code",
   "execution_count": 54,
   "metadata": {},
   "outputs": [],
   "source": [
    "brands_pattern = re.compile(r\"Fox Racing|POC|Troy Lee Designs|Bell|100%|7 iDP|Abus|Brand-X|dhb|Endura|Giro|IXS|Kask|Leatt|MET|Oakley|SixSixOne\")"
   ]
  },
  {
   "cell_type": "code",
   "execution_count": 55,
   "metadata": {},
   "outputs": [
    {
     "data": {
      "text/plain": [
       "229"
      ]
     },
     "execution_count": 55,
     "metadata": {},
     "output_type": "execute_result"
    }
   ],
   "source": [
    "brands = []\n",
    "for i in name: \n",
    "    brands.append(re.findall(brands_pattern,i))\n",
    "    \n",
    "len(brands)"
   ]
  },
  {
   "cell_type": "code",
   "execution_count": 56,
   "metadata": {},
   "outputs": [
    {
     "data": {
      "text/plain": [
       "229"
      ]
     },
     "execution_count": 56,
     "metadata": {},
     "output_type": "execute_result"
    }
   ],
   "source": [
    "brands_clean = []\n",
    "\n",
    "for i in brands:\n",
    "    try: brands_clean.append(i[0])\n",
    "    except: brands_clean.append(\"undefined\")\n",
    "\n",
    "len(brands_clean)"
   ]
  },
  {
   "cell_type": "markdown",
   "metadata": {},
   "source": [
    "* **Creating a list of product description**"
   ]
  },
  {
   "cell_type": "code",
   "execution_count": 60,
   "metadata": {},
   "outputs": [
    {
     "data": {
      "text/plain": [
       "229"
      ]
     },
     "execution_count": 60,
     "metadata": {},
     "output_type": "execute_result"
    }
   ],
   "source": [
    "product_description = []\n",
    "\n",
    "for i in names:\n",
    "    x = i\n",
    "    for j in brands_clean:\n",
    "        x = x.replace(j,\"\")\n",
    "    product_description.append(x.strip())\n",
    "        \n",
    "\n",
    "len(product_description)\n"
   ]
  },
  {
   "cell_type": "markdown",
   "metadata": {},
   "source": [
    "* **MIPS list**"
   ]
  },
  {
   "cell_type": "code",
   "execution_count": 61,
   "metadata": {},
   "outputs": [
    {
     "data": {
      "text/plain": [
       "229"
      ]
     },
     "execution_count": 61,
     "metadata": {},
     "output_type": "execute_result"
    }
   ],
   "source": [
    "isMIPS = []\n",
    "pattern = re.compile(\".*MIPS.*\")\n",
    "for name in product_description:\n",
    "    if pattern.match(name):\n",
    "        isMIPS.append(1)\n",
    "    else:\n",
    "        isMIPS.append(0)\n",
    "        \n",
    "len(isMIPS)"
   ]
  },
  {
   "cell_type": "markdown",
   "metadata": {},
   "source": [
    "* **Year List**"
   ]
  },
  {
   "cell_type": "code",
   "execution_count": 62,
   "metadata": {},
   "outputs": [
    {
     "data": {
      "text/plain": [
       "229"
      ]
     },
     "execution_count": 62,
     "metadata": {},
     "output_type": "execute_result"
    }
   ],
   "source": [
    "year_pattern = re.compile(r\"2020|2021|2019|2018|20|19\")\n",
    "\n",
    "what_years = []\n",
    "years_clean = []\n",
    "years_clean2 = []\n",
    "\n",
    "for i in product_description:\n",
    "    what_years.append(re.findall(year_pattern,i))\n",
    "\n",
    "for x in what_years:\n",
    "    try: years_clean.append(x[0])\n",
    "    except: years_clean.append(\"Undefined\")\n",
    "\n",
    "for j in years_clean:\n",
    "    if j == \"20\":\n",
    "        years_clean2.append(\"2020\")\n",
    "    elif j == \"19\":\n",
    "        years_clean2.append(\"2019\")\n",
    "    else:\n",
    "        years_clean2.append(j)\n",
    "\n",
    "len(years_clean2)      "
   ]
  },
  {
   "cell_type": "markdown",
   "metadata": {},
   "source": [
    "---"
   ]
  },
  {
   "cell_type": "markdown",
   "metadata": {},
   "source": [
    "### Helmet Spares (to delete from original list) - SUBCATEGORY"
   ]
  },
  {
   "cell_type": "code",
   "execution_count": 63,
   "metadata": {},
   "outputs": [],
   "source": [
    "baseUrl4 = \"https://www.chainreactioncycles.com/mtb/helmets/helmets-spares?ss=2475&f=2258,2072,2475&sort=new\""
   ]
  },
  {
   "cell_type": "code",
   "execution_count": 64,
   "metadata": {},
   "outputs": [],
   "source": [
    "name_helmet_spares = []\n",
    "\n",
    "page = BeautifulSoup(requests.get(baseUrl4.format()).content,\"html.parser\")\n",
    "\n",
    "for info in page.select(\".products_details.product_details_plp\"):\n",
    "    \n",
    "    name_helmet_spares.append(info.h2.text.strip())\n",
    "\n",
    "#brands\n",
    "\n",
    "brands_pattern_helmet_spares = re.compile(r\"Fox Racing|POC|Troy Lee Designs|Bell|100%|7 iDP|Abus|Brand-X|dhb|Endura|Giro|IXS|Kask|Leatt|MET|Oakley|SixSixOne\")\n",
    "\n",
    "brands_helmet_spares = []\n",
    "\n",
    "for i in name_helmet_spares: \n",
    "    brands_helmet_spares.append(re.findall(brands_pattern_helmet_spares,i))\n",
    "    \n",
    "brands_clean_helmet_spares = []\n",
    "\n",
    "for i in brands_helmet_spares:\n",
    "    brands_clean_helmet_spares.append(i[0])\n",
    "\n",
    "\n",
    "#product description\n",
    "\n",
    "product_description_helmet_spares = []\n",
    "\n",
    "for i in name_helmet_spares:\n",
    "    x = i\n",
    "    for j in brands_clean_helmet_spares:\n",
    "        x = x.replace(j,\"\")\n",
    "    product_description_helmet_spares.append(x.strip())\n"
   ]
  },
  {
   "cell_type": "markdown",
   "metadata": {},
   "source": [
    "---"
   ]
  },
  {
   "cell_type": "markdown",
   "metadata": {},
   "source": [
    "### Full Face Helmets - SUBCATEGORY"
   ]
  },
  {
   "cell_type": "code",
   "execution_count": 65,
   "metadata": {},
   "outputs": [],
   "source": [
    "baseUrl2 = \"https://www.chainreactioncycles.com/mtb/helmets/full-face-helmets?f=2072,2474&page={}\"\n",
    "nPages = 2"
   ]
  },
  {
   "cell_type": "code",
   "execution_count": 66,
   "metadata": {},
   "outputs": [],
   "source": [
    "name_full_face = []\n",
    "price_full_face = []\n",
    "oldPrice_full_face = []\n",
    "\n",
    "for i in range(1,nPages+1):\n",
    "    page = BeautifulSoup(requests.get(baseUrl2.format(i)).content, \"html.parser\")\n",
    "    \n",
    "    for item_selector in page.select(\".products_details.product_details_plp\"):\n",
    "        name_full_face.append(item_selector.h2.text.strip())\n",
    "        try: price_full_face.append(item_selector.select_one(\".fromamt\").text.strip())\n",
    "        except: price_full_face.append(\"undefined\")\n",
    "        \n",
    "        try: oldPrice_full_face.append(item_selector.select_one(\".rrpamount\").text.strip())\n",
    "        except: oldPrice_full_face.append(\"Undefined\")"
   ]
  },
  {
   "cell_type": "code",
   "execution_count": 67,
   "metadata": {},
   "outputs": [],
   "source": [
    "# Clean prices\n",
    "\n",
    "clean_prices_full_face = []\n",
    "\n",
    "for i in price_full_face: \n",
    "    try: clean_prices_full_face.append(re.findall(r\"\\d{1,3}\\.\\d{2}\",i)[0])\n",
    "    except: clean_prices_full_face.append(\"0\")\n",
    "\n",
    "\n",
    "# Cleaning old prices\n",
    "\n",
    "clean_oldprices_full_face = []\n",
    "for i in oldPrice_full_face: \n",
    "    try: clean_oldprices_full_face.append(re.findall(r\"\\d{1,3}\\.\\d{2}\",i)[0])\n",
    "    except: clean_oldprices_full_face.append(0)\n",
    "\n",
    "# Brands\n",
    "\n",
    "brands_pattern_full_face = re.compile(r\"Fox Racing|POC|Troy Lee Designs|Bell|100%|7 iDP|Abus|Brand-X|dhb|Endura|Giro|IXS|Kask|Leatt|MET|Oakley|SixSixOne\")\n",
    "\n",
    "brands_full_face = []\n",
    "for i in name_full_face: \n",
    "    brands_full_face.append(re.findall(brands_pattern_full_face,i))\n",
    "    \n",
    "brands_clean_full_face = []\n",
    "\n",
    "for i in brands_full_face:\n",
    "    brands_clean_full_face.append(i[0])\n",
    "\n",
    "# Product Description\n",
    "    \n",
    "product_description_full_face = []\n",
    "\n",
    "for i in name_full_face:\n",
    "    x = i\n",
    "    for j in brands_clean_full_face:\n",
    "        x = x.replace(j,\"\")\n",
    "    product_description_full_face.append(x.strip())\n",
    "        \n",
    "# MIPS\n",
    "\n",
    "isMIPS_full_face = []\n",
    "pattern_full_face = re.compile(\".*MIPS.*\")\n",
    "for name in product_description_full_face:\n",
    "    if pattern_full_face.match(name):\n",
    "        isMIPS_full_face.append(1)\n",
    "    else:\n",
    "        isMIPS_full_face.append(0)\n",
    "\n",
    "# Year\n",
    "\n",
    "year_pattern_full_face = re.compile(r\"2020|2021|2019|2018|20|19|17|16|2017|2016\")\n",
    "\n",
    "what_years_full_face = []\n",
    "years_clean_full_face = []\n",
    "years_clean2_full_face = []\n",
    "\n",
    "for i in product_description_full_face:\n",
    "    what_years_full_face.append(re.findall(year_pattern_full_face,i))\n",
    "\n",
    "for x in what_years_full_face:\n",
    "    try: years_clean_full_face.append(x[0])\n",
    "    except: years_clean_full_face.append(\"Undefined\")\n",
    "\n",
    "for j in years_clean_full_face:\n",
    "    if j == \"20\":\n",
    "        years_clean2_full_face.append(\"2020\")\n",
    "    elif j == \"19\":\n",
    "        years_clean2_full_face.append(\"2019\")\n",
    "    elif j == \"17\":\n",
    "        years_clean2_full_face.append(\"2017\")\n",
    "    elif j == \"16\":\n",
    "        years_clean2_full_face.append(\"2016\")\n",
    "    else:\n",
    "        years_clean2_full_face.append(j)"
   ]
  },
  {
   "cell_type": "markdown",
   "metadata": {},
   "source": [
    "---"
   ]
  },
  {
   "cell_type": "markdown",
   "metadata": {},
   "source": [
    "### MTB Helmets - SUBCATEGORY"
   ]
  },
  {
   "cell_type": "code",
   "execution_count": 68,
   "metadata": {},
   "outputs": [],
   "source": [
    "baseUrl7 = \"https://www.chainreactioncycles.com/mtb/helmets/mtb-helmets\""
   ]
  },
  {
   "cell_type": "code",
   "execution_count": 69,
   "metadata": {},
   "outputs": [],
   "source": [
    "name_MTB_helmets = []\n",
    "price_MTB_helmets = []\n",
    "oldPrice_MTB_helmets = []\n",
    "nPages = 3\n",
    "\n",
    "for i in range(1,nPages+1):\n",
    "    page = BeautifulSoup(requests.get(baseUrl7.format(i)).content, \"html.parser\")\n",
    "    \n",
    "    for item_selector in page.select(\".products_details.product_details_plp\"):\n",
    "        name_MTB_helmets.append(item_selector.h2.text.strip())\n",
    "        try: price_MTB_helmets.append(item_selector.select_one(\".fromamt\").text.strip())\n",
    "        except: price_MTB_helmets.append(\"undefined\")\n",
    "        \n",
    "        try: oldPrice_MTB_helmets.append(item_selector.select_one(\".rrpamount\").text.strip())\n",
    "        except: oldPrice_MTB_helmets.append(\"Undefined\")\n",
    "            \n",
    "            \n",
    "# Clean prices\n",
    "\n",
    "clean_prices_MTB_helmets = []\n",
    "\n",
    "for i in price_MTB_helmets: \n",
    "    try: clean_prices_MTB_helmets.append(re.findall(r\"\\d{1,3}\\.\\d{2}\",i)[0])\n",
    "    except: clean_prices_MTB_helmets.append(\"0\")\n",
    "\n",
    "\n",
    "# Cleaning old prices\n",
    "\n",
    "clean_oldprices_MTB_helmets = []\n",
    "for i in oldPrice_MTB_helmets: \n",
    "    try: clean_oldprices_MTB_helmets.append(re.findall(r\"\\d{1,3}\\.\\d{2}\",i)[0])\n",
    "    except: clean_oldprices_MTB_helmets.append(0)\n",
    "\n",
    "# Brands\n",
    "\n",
    "brands_pattern_MTB_helmets = re.compile(r\"Fox Racing|POC|Troy Lee Designs|Bell|100%|7 iDP|Abus|Brand-X|dhb|Endura|Giro|IXS|Kask|Leatt|MET|Oakley|SixSixOne\")\n",
    "\n",
    "brands_MTB_helmets = []\n",
    "for i in name_MTB_helmets: \n",
    "    brands_MTB_helmets.append(re.findall(brands_pattern_MTB_helmets,i))\n",
    "    \n",
    "brands_clean_MTB_helmets = []\n",
    "\n",
    "for i in brands_MTB_helmets:\n",
    "    brands_clean_MTB_helmets.append(i[0])\n",
    "\n",
    "# Product Description\n",
    "    \n",
    "product_description_MTB_helmets = []\n",
    "\n",
    "for i in name_MTB_helmets:\n",
    "    x = i\n",
    "    for j in brands_clean_MTB_helmets:\n",
    "        x = x.replace(j,\"\")\n",
    "    product_description_MTB_helmets.append(x.strip())\n",
    "        \n",
    "# MIPS\n",
    "\n",
    "isMIPS_MTB_helmets = []\n",
    "pattern_MTB_helmets = re.compile(\".*MIPS.*\")\n",
    "for name in product_description_MTB_helmets:\n",
    "    if pattern_MTB_helmets.match(name):\n",
    "        isMIPS_MTB_helmets.append(1)\n",
    "    else:\n",
    "        isMIPS_MTB_helmets.append(0)\n",
    "\n",
    "# Year\n",
    "\n",
    "year_pattern_MTB_helmets = re.compile(r\"2020|2021|2019|2018|20|19|17|16|2017|2016\")\n",
    "\n",
    "what_years_MTB_helmets = []\n",
    "years_clean_MTB_helmets = []\n",
    "years_clean2_MTB_helmets = []\n",
    "\n",
    "for i in product_description_MTB_helmets:\n",
    "    what_years_MTB_helmets.append(re.findall(year_pattern_MTB_helmets,i))\n",
    "\n",
    "for x in what_years_MTB_helmets:\n",
    "    try: years_clean_MTB_helmets.append(x[0])\n",
    "    except: years_clean_MTB_helmets.append(\"Undefined\")\n",
    "\n",
    "for j in years_clean_MTB_helmets:\n",
    "    if j == \"20\":\n",
    "        years_clean2_MTB_helmets.append(\"2020\")\n",
    "    elif j == \"19\":\n",
    "        years_clean2_MTB_helmets.append(\"2019\")\n",
    "    elif j == \"17\":\n",
    "        years_clean2_MTB_helmets.append(\"2017\")\n",
    "    elif j == \"16\":\n",
    "        years_clean2_MTB_helmets.append(\"2016\")\n",
    "    else:\n",
    "        years_clean2_MTB_helmets.append(j)"
   ]
  },
  {
   "cell_type": "markdown",
   "metadata": {},
   "source": [
    "---"
   ]
  },
  {
   "cell_type": "markdown",
   "metadata": {},
   "source": [
    "### Kids Helmets  - SUBCATEGORY"
   ]
  },
  {
   "cell_type": "code",
   "execution_count": 70,
   "metadata": {},
   "outputs": [],
   "source": [
    "baseUrl6 = \"https://www.chainreactioncycles.com/mtb/helmets/kids-helmets\""
   ]
  },
  {
   "cell_type": "code",
   "execution_count": 71,
   "metadata": {},
   "outputs": [],
   "source": [
    "name_kids = []\n",
    "price_kids = []\n",
    "oldPrice_kids = []\n",
    "\n",
    "page = BeautifulSoup(requests.get(baseUrl6.format()).content,\"html.parser\")\n",
    "\n",
    "for info in page.select(\".products_details.product_details_plp\"):\n",
    "    \n",
    "    name_kids.append(info.h2.text.strip())\n",
    "    \n",
    "    try: price_kids.append(info.select_one(\".fromamt\").text.strip())\n",
    "    except: price_kids.append(\"undefined\")\n",
    "    \n",
    "    try: oldPrice_kids.append(info.select_one(\".rrpamount\").text.strip())\n",
    "    except: oldPrice_kids.append(\"Undefined\")\n",
    "        \n",
    "\n",
    "#Current sales price\n",
    "        \n",
    "clean_prices_kids = []\n",
    "\n",
    "for i in price_kids: \n",
    "    try: clean_prices_kids.append(re.findall(r\"\\d{1,3}\\.\\d{2}\",i)[0])\n",
    "    except: clean_prices_kids.append(\"0\")\n",
    "\n",
    "\n",
    "#original price\n",
    "\n",
    "clean_oldprices_kids = []\n",
    "for i in oldPrice_kids: \n",
    "    try: clean_oldprices_kids.append(re.findall(r\"\\d{1,3}\\.\\d{2}\",i)[0])\n",
    "    except: clean_oldprices_kids.append(0)\n",
    "\n",
    "\n",
    "\n",
    "#brands\n",
    "\n",
    "brands_pattern_kids = re.compile(r\"Fox Racing|POC|Troy Lee Designs|Bell|100%|7 iDP|Abus|Brand-X|dhb|Endura|Giro|IXS|Kask|Leatt|MET|Oakley|SixSixOne\")\n",
    "\n",
    "brands_kids = []\n",
    "for i in name_kids: \n",
    "    brands_kids.append(re.findall(brands_pattern_kids,i))\n",
    "    \n",
    "brands_clean_kids = []\n",
    "\n",
    "for i in brands_kids:\n",
    "    brands_clean_kids.append(i[0])\n",
    "\n",
    "\n",
    "#product description\n",
    "\n",
    "product_description_kids = []\n",
    "\n",
    "for i in name_kids:\n",
    "    x = i\n",
    "    for j in brands_clean_kids:\n",
    "        x = x.replace(j,\"\")\n",
    "    product_description_kids.append(x.strip())\n",
    "        \n",
    "\n",
    "# MIPS\n",
    "\n",
    "isMIPS_kids = []\n",
    "pattern_kids = re.compile(\".*MIPS.*\")\n",
    "for name in product_description_kids:\n",
    "    if pattern_kids.match(name):\n",
    "        isMIPS_kids.append(1)\n",
    "    else:\n",
    "        isMIPS_kids.append(0)\n",
    "        \n",
    "\n",
    "# Year\n",
    "\n",
    "year_pattern_kids = re.compile(r\"2020|2021|2019|2018|20|19|17|16|2017|2016|18\")\n",
    "\n",
    "what_years_kids = []\n",
    "\n",
    "for i in product_description_kids:\n",
    "    what_years_kids.append(re.findall(year_pattern_kids,i))\n",
    "    \n",
    "years_clean_kids = []\n",
    "\n",
    "for x in what_years_kids:\n",
    "    try: years_clean_kids.append(x[0])\n",
    "    except: years_clean_kids.append(\"Undefined\")\n",
    "\n",
    "        \n",
    "years_clean2_kids = []\n",
    "\n",
    "for j in years_clean_kids:\n",
    "    if j == \"20\":\n",
    "        years_clean2_kids.append(\"2020\")\n",
    "    elif j == \"19\":\n",
    "        years_clean2_kids.append(\"2019\")\n",
    "    elif j == \"19\":\n",
    "        years_clean2_kids.append(\"2019\")\n",
    "    else:\n",
    "        years_clean2_kids.append(j) "
   ]
  },
  {
   "cell_type": "markdown",
   "metadata": {},
   "source": [
    "---"
   ]
  },
  {
   "cell_type": "markdown",
   "metadata": {},
   "source": [
    "### Dirt Jump Helmets - sub-category"
   ]
  },
  {
   "cell_type": "code",
   "execution_count": 72,
   "metadata": {},
   "outputs": [],
   "source": [
    "baseUrl1 = \"https://www.chainreactioncycles.com/mtb/helmets/dirt-jump-helmets\""
   ]
  },
  {
   "cell_type": "code",
   "execution_count": 73,
   "metadata": {},
   "outputs": [],
   "source": [
    "name_dirt_jump_helmet = []\n",
    "price_dirt_jump_helmet = []\n",
    "oldPrice_dirt_jump_helmet = []\n",
    "\n",
    "page = BeautifulSoup(requests.get(baseUrl1.format()).content,\"html.parser\")\n",
    "\n",
    "for info in page.select(\".products_details.product_details_plp\"):\n",
    "    \n",
    "    name_dirt_jump_helmet.append(info.h2.text.strip())\n",
    "    \n",
    "    try: price_dirt_jump_helmet.append(info.select_one(\".fromamt\").text.strip())\n",
    "    except: price_dirt_jump_helmet.append(\"undefined\")\n",
    "    \n",
    "    try: oldPrice_dirt_jump_helmet.append(info.select_one(\".rrpamount\").text.strip())\n",
    "    except: oldPrice_dirt_jump_helmet.append(\"Undefined\")\n",
    "        \n",
    "\n",
    "#Current sales price\n",
    "        \n",
    "clean_prices_dirt_jump_helmet = []\n",
    "\n",
    "for i in price_dirt_jump_helmet: \n",
    "    try: clean_prices_dirt_jump_helmet.append(re.findall(r\"\\d{1,3}\\.\\d{2}\",i)[0])\n",
    "    except: clean_prices_dirt_jump_helmet.append(\"0\")\n",
    "\n",
    "\n",
    "#original price\n",
    "\n",
    "clean_oldprices_dirt_jump_helmet = []\n",
    "for i in oldPrice_dirt_jump_helmet: \n",
    "    try: clean_oldprices_dirt_jump_helmet.append(re.findall(r\"\\d{1,3}\\.\\d{2}\",i)[0])\n",
    "    except: clean_oldprices_dirt_jump_helmet.append(0)\n",
    "\n",
    "\n",
    "\n",
    "#brands\n",
    "\n",
    "brands_pattern_dirt_jump_helmet = re.compile(r\"Fox Racing|POC|Troy Lee Designs|Bell|100%|7 iDP|Abus|Brand-X|dhb|Endura|Giro|IXS|Kask|Leatt|MET|Oakley|SixSixOne\")\n",
    "\n",
    "brands_dirt_jump_helmet = []\n",
    "for i in name_dirt_jump_helmet: \n",
    "    brands_dirt_jump_helmet.append(re.findall(brands_pattern_dirt_jump_helmet,i))\n",
    "    \n",
    "brands_clean_dirt_jump_helmet = []\n",
    "\n",
    "for i in brands_dirt_jump_helmet:\n",
    "    brands_clean_dirt_jump_helmet.append(i[0])\n",
    "\n",
    "\n",
    "#product description\n",
    "\n",
    "product_description_dirt_jump_helmet = []\n",
    "\n",
    "for i in name_dirt_jump_helmet:\n",
    "    x = i\n",
    "    for j in brands_clean_dirt_jump_helmet:\n",
    "        x = x.replace(j,\"\")\n",
    "    product_description_dirt_jump_helmet.append(x.strip())\n",
    "        \n",
    "\n",
    "# MIPS\n",
    "\n",
    "isMIPS_dirt_jump_helmet = []\n",
    "pattern_dirt_jump_helmet = re.compile(\".*MIPS.*\")\n",
    "for name in product_description_dirt_jump_helmet:\n",
    "    if pattern_dirt_jump_helmet.match(name):\n",
    "        isMIPS_dirt_jump_helmet.append(1)\n",
    "    else:\n",
    "        isMIPS_dirt_jump_helmet.append(0)\n",
    "        \n",
    "\n",
    "# Year\n",
    "\n",
    "year_pattern_dirt_jump_helmet = re.compile(r\"2020|2021|2019|2018|20|19|17|16|2017|2016|18\")\n",
    "\n",
    "what_years_dirt_jump_helmet = []\n",
    "\n",
    "for i in product_description_dirt_jump_helmet:\n",
    "    what_years_dirt_jump_helmet.append(re.findall(year_pattern_dirt_jump_helmet,i))\n",
    "    \n",
    "years_clean_dirt_jump_helmet = []\n",
    "\n",
    "for x in what_years_dirt_jump_helmet:\n",
    "    try: years_clean_dirt_jump_helmet.append(x[0])\n",
    "    except: years_clean_dirt_jump_helmet.append(\"Undefined\")\n",
    "\n",
    "        \n",
    "years_clean2_dirt_jump_helmet = []\n",
    "\n",
    "for j in years_clean_dirt_jump_helmet:\n",
    "    if j == \"20\":\n",
    "        years_clean2_dirt_jump_helmet.append(\"2020\")\n",
    "    elif j == \"19\":\n",
    "        years_clean2_dirt_jump_helmet.append(\"2019\")\n",
    "    elif j == \"19\":\n",
    "        years_clean2_dirt_jump_helmet.append(\"2019\")\n",
    "    else:\n",
    "        years_clean2_dirt_jump_helmet.append(j)\n",
    "        "
   ]
  },
  {
   "cell_type": "markdown",
   "metadata": {},
   "source": [
    "# Creating a Data Frame"
   ]
  },
  {
   "cell_type": "markdown",
   "metadata": {},
   "source": [
    "### **Main Data Frame**"
   ]
  },
  {
   "cell_type": "code",
   "execution_count": 74,
   "metadata": {},
   "outputs": [],
   "source": [
    "wiggle_dictionary = {\"original_name\": names,\n",
    "                     \"brand\":brands_clean,\n",
    "                     \"item\":product_description,\n",
    "                     \"price\": clean_prices,\n",
    "                     \"oPrice\": clean_oldprices,\n",
    "                     \"isMIPS\" : isMIPS,\n",
    "                     \"year\": years_clean2\n",
    "                        }\n",
    "\n",
    "wiggle = pd.DataFrame(wiggle_dictionary)\n",
    "wiggle['oPrice'] = np.where(wiggle['oPrice'] == 0, wiggle['price'], wiggle['oPrice'])\n",
    "\n",
    "wiggle[[\"price\",\"oPrice\"]] = wiggle[[\"price\",\"oPrice\"]].apply(pd.to_numeric)"
   ]
  },
  {
   "cell_type": "code",
   "execution_count": 75,
   "metadata": {},
   "outputs": [
    {
     "data": {
      "text/html": [
       "<div>\n",
       "<style scoped>\n",
       "    .dataframe tbody tr th:only-of-type {\n",
       "        vertical-align: middle;\n",
       "    }\n",
       "\n",
       "    .dataframe tbody tr th {\n",
       "        vertical-align: top;\n",
       "    }\n",
       "\n",
       "    .dataframe thead th {\n",
       "        text-align: right;\n",
       "    }\n",
       "</style>\n",
       "<table border=\"1\" class=\"dataframe\">\n",
       "  <thead>\n",
       "    <tr style=\"text-align: right;\">\n",
       "      <th></th>\n",
       "      <th>original_name</th>\n",
       "      <th>brand</th>\n",
       "      <th>item</th>\n",
       "      <th>price</th>\n",
       "      <th>oPrice</th>\n",
       "      <th>isMIPS</th>\n",
       "      <th>year</th>\n",
       "      <th>score_all_categories</th>\n",
       "    </tr>\n",
       "  </thead>\n",
       "  <tbody>\n",
       "    <tr>\n",
       "      <th>0</th>\n",
       "      <td>SixSixOne Reset Helmet</td>\n",
       "      <td>SixSixOne</td>\n",
       "      <td>Reset Helmet</td>\n",
       "      <td>45.00</td>\n",
       "      <td>89.99</td>\n",
       "      <td>0</td>\n",
       "      <td>Undefined</td>\n",
       "      <td>1.000000</td>\n",
       "    </tr>\n",
       "    <tr>\n",
       "      <th>1</th>\n",
       "      <td>IXS Trail EVO Helmet Exclusive 2020</td>\n",
       "      <td>IXS</td>\n",
       "      <td>Trail EVO Helmet Exclusive 2020</td>\n",
       "      <td>53.99</td>\n",
       "      <td>89.99</td>\n",
       "      <td>0</td>\n",
       "      <td>2020</td>\n",
       "      <td>0.995633</td>\n",
       "    </tr>\n",
       "    <tr>\n",
       "      <th>2</th>\n",
       "      <td>SixSixOne Reset MIPS Helmet</td>\n",
       "      <td>SixSixOne</td>\n",
       "      <td>Reset MIPS Helmet</td>\n",
       "      <td>60.00</td>\n",
       "      <td>119.99</td>\n",
       "      <td>1</td>\n",
       "      <td>Undefined</td>\n",
       "      <td>0.991266</td>\n",
       "    </tr>\n",
       "    <tr>\n",
       "      <th>3</th>\n",
       "      <td>Leatt MTB 2.0 Helmet 2021</td>\n",
       "      <td>Leatt</td>\n",
       "      <td>MTB 2.0 Helmet 2021</td>\n",
       "      <td>47.99</td>\n",
       "      <td>79.99</td>\n",
       "      <td>0</td>\n",
       "      <td>2021</td>\n",
       "      <td>0.986900</td>\n",
       "    </tr>\n",
       "    <tr>\n",
       "      <th>4</th>\n",
       "      <td>Fox Racing Dropframe Pro MTB Helmet AW20</td>\n",
       "      <td>Fox Racing</td>\n",
       "      <td>Dropframe Pro MTB Helmet AW20</td>\n",
       "      <td>180.00</td>\n",
       "      <td>180.00</td>\n",
       "      <td>0</td>\n",
       "      <td>2020</td>\n",
       "      <td>0.982533</td>\n",
       "    </tr>\n",
       "    <tr>\n",
       "      <th>...</th>\n",
       "      <td>...</td>\n",
       "      <td>...</td>\n",
       "      <td>...</td>\n",
       "      <td>...</td>\n",
       "      <td>...</td>\n",
       "      <td>...</td>\n",
       "      <td>...</td>\n",
       "      <td>...</td>\n",
       "    </tr>\n",
       "    <tr>\n",
       "      <th>224</th>\n",
       "      <td>Endura MT500JR Youth Helmet</td>\n",
       "      <td>Endura</td>\n",
       "      <td>MT500JR Youth Helmet</td>\n",
       "      <td>74.99</td>\n",
       "      <td>74.99</td>\n",
       "      <td>0</td>\n",
       "      <td>Undefined</td>\n",
       "      <td>0.021834</td>\n",
       "    </tr>\n",
       "    <tr>\n",
       "      <th>225</th>\n",
       "      <td>Leatt DBX 6.0 Carbon Helmet</td>\n",
       "      <td>Leatt</td>\n",
       "      <td>DBX 6.0 Carbon Helmet</td>\n",
       "      <td>399.00</td>\n",
       "      <td>399.00</td>\n",
       "      <td>0</td>\n",
       "      <td>Undefined</td>\n",
       "      <td>0.017467</td>\n",
       "    </tr>\n",
       "    <tr>\n",
       "      <th>226</th>\n",
       "      <td>IXS Kronos Evo MTB Helmet 2017</td>\n",
       "      <td>IXS</td>\n",
       "      <td>Kronos Evo MTB Helmet 2017</td>\n",
       "      <td>74.99</td>\n",
       "      <td>74.99</td>\n",
       "      <td>0</td>\n",
       "      <td>2020</td>\n",
       "      <td>0.013100</td>\n",
       "    </tr>\n",
       "    <tr>\n",
       "      <th>227</th>\n",
       "      <td>7 iDP Project 23 Helmet Visor 2020</td>\n",
       "      <td>7 iDP</td>\n",
       "      <td>Project 23 Helmet Visor 2020</td>\n",
       "      <td>11.00</td>\n",
       "      <td>34.99</td>\n",
       "      <td>0</td>\n",
       "      <td>2020</td>\n",
       "      <td>0.008734</td>\n",
       "    </tr>\n",
       "    <tr>\n",
       "      <th>228</th>\n",
       "      <td>Leatt DBX 2.0 Helmet 2020</td>\n",
       "      <td>Leatt</td>\n",
       "      <td>DBX 2.0 Helmet 2020</td>\n",
       "      <td>79.99</td>\n",
       "      <td>79.99</td>\n",
       "      <td>0</td>\n",
       "      <td>2020</td>\n",
       "      <td>0.004367</td>\n",
       "    </tr>\n",
       "  </tbody>\n",
       "</table>\n",
       "<p>229 rows × 8 columns</p>\n",
       "</div>"
      ],
      "text/plain": [
       "                                original_name       brand  \\\n",
       "0                      SixSixOne Reset Helmet   SixSixOne   \n",
       "1         IXS Trail EVO Helmet Exclusive 2020         IXS   \n",
       "2                 SixSixOne Reset MIPS Helmet   SixSixOne   \n",
       "3                   Leatt MTB 2.0 Helmet 2021       Leatt   \n",
       "4    Fox Racing Dropframe Pro MTB Helmet AW20  Fox Racing   \n",
       "..                                        ...         ...   \n",
       "224               Endura MT500JR Youth Helmet      Endura   \n",
       "225               Leatt DBX 6.0 Carbon Helmet       Leatt   \n",
       "226            IXS Kronos Evo MTB Helmet 2017         IXS   \n",
       "227        7 iDP Project 23 Helmet Visor 2020       7 iDP   \n",
       "228                 Leatt DBX 2.0 Helmet 2020       Leatt   \n",
       "\n",
       "                                item   price  oPrice  isMIPS       year  \\\n",
       "0                       Reset Helmet   45.00   89.99       0  Undefined   \n",
       "1    Trail EVO Helmet Exclusive 2020   53.99   89.99       0       2020   \n",
       "2                  Reset MIPS Helmet   60.00  119.99       1  Undefined   \n",
       "3                MTB 2.0 Helmet 2021   47.99   79.99       0       2021   \n",
       "4      Dropframe Pro MTB Helmet AW20  180.00  180.00       0       2020   \n",
       "..                               ...     ...     ...     ...        ...   \n",
       "224             MT500JR Youth Helmet   74.99   74.99       0  Undefined   \n",
       "225            DBX 6.0 Carbon Helmet  399.00  399.00       0  Undefined   \n",
       "226       Kronos Evo MTB Helmet 2017   74.99   74.99       0       2020   \n",
       "227     Project 23 Helmet Visor 2020   11.00   34.99       0       2020   \n",
       "228              DBX 2.0 Helmet 2020   79.99   79.99       0       2020   \n",
       "\n",
       "     score_all_categories  \n",
       "0                1.000000  \n",
       "1                0.995633  \n",
       "2                0.991266  \n",
       "3                0.986900  \n",
       "4                0.982533  \n",
       "..                    ...  \n",
       "224              0.021834  \n",
       "225              0.017467  \n",
       "226              0.013100  \n",
       "227              0.008734  \n",
       "228              0.004367  \n",
       "\n",
       "[229 rows x 8 columns]"
      ]
     },
     "execution_count": 75,
     "metadata": {},
     "output_type": "execute_result"
    }
   ],
   "source": [
    "#Creating a scoring system:\n",
    "wiggle[\"score_all_categories\"] = (abs(len(wiggle) - np.array(wiggle.index))) / abs(len(wiggle))\n",
    "wiggle"
   ]
  },
  {
   "cell_type": "markdown",
   "metadata": {},
   "source": [
    "### **Sub-Category DataFrames**"
   ]
  },
  {
   "cell_type": "markdown",
   "metadata": {},
   "source": [
    "* **Dirt Jump**"
   ]
  },
  {
   "cell_type": "code",
   "execution_count": 157,
   "metadata": {},
   "outputs": [],
   "source": [
    "wiggle_dirt_jump_dictionary = {\"original_name\": name_dirt_jump_helmet,\n",
    "                               \"brand\":brands_clean_dirt_jump_helmet,\n",
    "                     \"item\":product_description_dirt_jump_helmet,\n",
    "                     \"price\": clean_prices_dirt_jump_helmet,\n",
    "                     \"oPrice\": clean_oldprices_dirt_jump_helmet,\n",
    "                     \"isMIPS\" : isMIPS_dirt_jump_helmet,\n",
    "                     \"year\": years_clean2_dirt_jump_helmet}\n",
    "\n",
    "wiggle_dirt_jump = pd.DataFrame(wiggle_dirt_jump_dictionary)\n",
    "wiggle_dirt_jump['oPrice'] = np.where(wiggle_dirt_jump['oPrice'] == 0, wiggle_dirt_jump['price'], wiggle_dirt_jump['oPrice'])\n",
    "\n",
    "wiggle_dirt_jump[[\"price\",\"oPrice\"]] = wiggle_dirt_jump[[\"price\",\"oPrice\"]].apply(pd.to_numeric)\n",
    "\n",
    "\n",
    "#Creating a scoring system:\n",
    "wiggle_dirt_jump[\"score_category\"] = (abs(len(wiggle_dirt_jump) - np.array(wiggle_dirt_jump.index))) / abs(len(wiggle_dirt_jump))\n",
    "\n",
    "wiggle_dirt_jump[\"category\"] = \"dirt_jump\""
   ]
  },
  {
   "cell_type": "code",
   "execution_count": 158,
   "metadata": {},
   "outputs": [],
   "source": [
    "dirt_jump = wiggle_dirt_jump.merge(wiggle,how=\"left\")"
   ]
  },
  {
   "cell_type": "code",
   "execution_count": 159,
   "metadata": {},
   "outputs": [],
   "source": [
    "# price bins"
   ]
  },
  {
   "cell_type": "code",
   "execution_count": 160,
   "metadata": {},
   "outputs": [
    {
     "data": {
      "text/plain": [
       "count     4.000000\n",
       "mean     35.492500\n",
       "std       5.257695\n",
       "min      29.990000\n",
       "25%      31.497500\n",
       "50%      35.995000\n",
       "75%      39.990000\n",
       "max      39.990000\n",
       "Name: price, dtype: float64"
      ]
     },
     "execution_count": 160,
     "metadata": {},
     "output_type": "execute_result"
    }
   ],
   "source": [
    "dirt_jump[\"price\"].describe()"
   ]
  },
  {
   "cell_type": "code",
   "execution_count": 161,
   "metadata": {},
   "outputs": [],
   "source": [
    "dirt_jump[\"price_bin_description\"] = np.where(\n",
    "     dirt_jump['price'].between(0, 40, inclusive=False), '0-40',\"more than 40\")"
   ]
  },
  {
   "cell_type": "code",
   "execution_count": 162,
   "metadata": {},
   "outputs": [],
   "source": [
    "dirt_jump[\"price_bin\"] = np.where(\n",
    "     dirt_jump['price'].between(0, 40, inclusive=False), 1,2)"
   ]
  },
  {
   "cell_type": "code",
   "execution_count": 163,
   "metadata": {},
   "outputs": [
    {
     "data": {
      "text/html": [
       "<div>\n",
       "<style scoped>\n",
       "    .dataframe tbody tr th:only-of-type {\n",
       "        vertical-align: middle;\n",
       "    }\n",
       "\n",
       "    .dataframe tbody tr th {\n",
       "        vertical-align: top;\n",
       "    }\n",
       "\n",
       "    .dataframe thead th {\n",
       "        text-align: right;\n",
       "    }\n",
       "</style>\n",
       "<table border=\"1\" class=\"dataframe\">\n",
       "  <thead>\n",
       "    <tr style=\"text-align: right;\">\n",
       "      <th></th>\n",
       "      <th>original_name</th>\n",
       "      <th>brand</th>\n",
       "      <th>item</th>\n",
       "      <th>price</th>\n",
       "      <th>oPrice</th>\n",
       "      <th>isMIPS</th>\n",
       "      <th>year</th>\n",
       "      <th>score_category</th>\n",
       "      <th>category</th>\n",
       "      <th>score_all_categories</th>\n",
       "      <th>price_bin_description</th>\n",
       "      <th>price_bin</th>\n",
       "    </tr>\n",
       "  </thead>\n",
       "  <tbody>\n",
       "    <tr>\n",
       "      <th>0</th>\n",
       "      <td>Bell Span Helmet 2019</td>\n",
       "      <td>Bell</td>\n",
       "      <td>Span Helmet 2019</td>\n",
       "      <td>39.99</td>\n",
       "      <td>39.99</td>\n",
       "      <td>0</td>\n",
       "      <td>2019</td>\n",
       "      <td>1.00</td>\n",
       "      <td>dirt_jump</td>\n",
       "      <td>0.566667</td>\n",
       "      <td>0-40</td>\n",
       "      <td>1</td>\n",
       "    </tr>\n",
       "    <tr>\n",
       "      <th>1</th>\n",
       "      <td>Fox Racing Flight Sport Hardshell Helmet</td>\n",
       "      <td>Fox Racing</td>\n",
       "      <td>Flight Sport Hardshell Helmet</td>\n",
       "      <td>32.00</td>\n",
       "      <td>40.00</td>\n",
       "      <td>0</td>\n",
       "      <td>Undefined</td>\n",
       "      <td>0.75</td>\n",
       "      <td>dirt_jump</td>\n",
       "      <td>0.383333</td>\n",
       "      <td>0-40</td>\n",
       "      <td>1</td>\n",
       "    </tr>\n",
       "    <tr>\n",
       "      <th>2</th>\n",
       "      <td>MET YoYo Helmet 2017</td>\n",
       "      <td>MET</td>\n",
       "      <td>YoYo Helmet 2017</td>\n",
       "      <td>29.99</td>\n",
       "      <td>30.00</td>\n",
       "      <td>0</td>\n",
       "      <td>2020</td>\n",
       "      <td>0.50</td>\n",
       "      <td>dirt_jump</td>\n",
       "      <td>0.225000</td>\n",
       "      <td>0-40</td>\n",
       "      <td>1</td>\n",
       "    </tr>\n",
       "    <tr>\n",
       "      <th>3</th>\n",
       "      <td>Bell Local Helmet 2019</td>\n",
       "      <td>Bell</td>\n",
       "      <td>Local Helmet 2019</td>\n",
       "      <td>39.99</td>\n",
       "      <td>39.99</td>\n",
       "      <td>0</td>\n",
       "      <td>2019</td>\n",
       "      <td>0.25</td>\n",
       "      <td>dirt_jump</td>\n",
       "      <td>0.137500</td>\n",
       "      <td>0-40</td>\n",
       "      <td>1</td>\n",
       "    </tr>\n",
       "  </tbody>\n",
       "</table>\n",
       "</div>"
      ],
      "text/plain": [
       "                              original_name       brand  \\\n",
       "0                     Bell Span Helmet 2019        Bell   \n",
       "1  Fox Racing Flight Sport Hardshell Helmet  Fox Racing   \n",
       "2                      MET YoYo Helmet 2017         MET   \n",
       "3                    Bell Local Helmet 2019        Bell   \n",
       "\n",
       "                            item  price  oPrice  isMIPS       year  \\\n",
       "0               Span Helmet 2019  39.99   39.99       0       2019   \n",
       "1  Flight Sport Hardshell Helmet  32.00   40.00       0  Undefined   \n",
       "2               YoYo Helmet 2017  29.99   30.00       0       2020   \n",
       "3              Local Helmet 2019  39.99   39.99       0       2019   \n",
       "\n",
       "   score_category   category  score_all_categories price_bin_description  \\\n",
       "0            1.00  dirt_jump              0.566667                  0-40   \n",
       "1            0.75  dirt_jump              0.383333                  0-40   \n",
       "2            0.50  dirt_jump              0.225000                  0-40   \n",
       "3            0.25  dirt_jump              0.137500                  0-40   \n",
       "\n",
       "   price_bin  \n",
       "0          1  \n",
       "1          1  \n",
       "2          1  \n",
       "3          1  "
      ]
     },
     "execution_count": 163,
     "metadata": {},
     "output_type": "execute_result"
    }
   ],
   "source": [
    "dirt_jump"
   ]
  },
  {
   "cell_type": "markdown",
   "metadata": {},
   "source": [
    "* **Kids**"
   ]
  },
  {
   "cell_type": "code",
   "execution_count": 164,
   "metadata": {},
   "outputs": [],
   "source": [
    "wiggle_kids_dictionary = {\"original_name\": name_kids,\n",
    "                          \"brand\":brands_clean_kids,\n",
    "                     \"item\":product_description_kids,\n",
    "                     \"price\":clean_prices_kids ,\n",
    "                     \"oPrice\": clean_oldprices_kids,\n",
    "                     \"isMIPS\" : isMIPS_kids,\n",
    "                     \"year\":years_clean2_kids }\n",
    "\n",
    "wiggle_kids= pd.DataFrame(wiggle_kids_dictionary)\n",
    "wiggle_kids['oPrice'] = np.where(wiggle_kids['oPrice'] == 0, wiggle_kids['price'], wiggle_kids['oPrice'])\n",
    "\n",
    "wiggle_kids[[\"price\",\"oPrice\"]] = wiggle_kids[[\"price\",\"oPrice\"]].apply(pd.to_numeric)\n",
    "\n",
    "#Creating a scoring system:\n",
    "wiggle_kids[\"score_category\"] = (abs(len(wiggle_kids) - np.array(wiggle_kids.index))) / abs(len(wiggle_kids))\n",
    "\n",
    "wiggle_kids[\"category\"] = \"kids\""
   ]
  },
  {
   "cell_type": "code",
   "execution_count": 165,
   "metadata": {},
   "outputs": [],
   "source": [
    "kids = wiggle_kids.merge(wiggle,how=\"left\")"
   ]
  },
  {
   "cell_type": "code",
   "execution_count": 166,
   "metadata": {},
   "outputs": [],
   "source": [
    "# pricing bins"
   ]
  },
  {
   "cell_type": "code",
   "execution_count": 167,
   "metadata": {},
   "outputs": [
    {
     "data": {
      "text/plain": [
       "count    11.000000\n",
       "mean     31.073636\n",
       "std       5.310304\n",
       "min      19.990000\n",
       "25%      29.990000\n",
       "50%      31.490000\n",
       "75%      34.990000\n",
       "max      36.990000\n",
       "Name: price, dtype: float64"
      ]
     },
     "execution_count": 167,
     "metadata": {},
     "output_type": "execute_result"
    }
   ],
   "source": [
    "kids[\"price\"].describe()"
   ]
  },
  {
   "cell_type": "code",
   "execution_count": 187,
   "metadata": {},
   "outputs": [],
   "source": [
    "kids[\"price_bin_description\"] = np.where(\n",
    "     kids['price'].between(0, 20, inclusive=False), '0-20', \n",
    "     np.where(\n",
    "        kids['price'].between(20, 25, inclusive=True), '20-24', \n",
    "        np.where(\n",
    "            kids['price'].between(25, 30, inclusive=True), '25-30',\n",
    "            np.where(\n",
    "            kids['price'].between(30, 35, inclusive=True), '30-35',\"more than 35\"))))"
   ]
  },
  {
   "cell_type": "code",
   "execution_count": 188,
   "metadata": {},
   "outputs": [],
   "source": [
    "kids[\"price_bin\"] = np.where(\n",
    "     kids['price'].between(0, 20, inclusive=False), 1, \n",
    "     np.where(\n",
    "        kids['price'].between(20, 25, inclusive=True), 2, \n",
    "        np.where(\n",
    "            kids['price'].between(25, 30, inclusive=True), 3,\n",
    "            np.where(\n",
    "            kids['price'].between(30, 35, inclusive=True), 4, 5))))"
   ]
  },
  {
   "cell_type": "markdown",
   "metadata": {},
   "source": [
    "* **MTB helmets**"
   ]
  },
  {
   "cell_type": "code",
   "execution_count": 189,
   "metadata": {
    "scrolled": false
   },
   "outputs": [],
   "source": [
    "wiggle_MTB_helmets_dictionary = {\"original_name\": name_MTB_helmets,\n",
    "                                 \"brand\":brands_clean_MTB_helmets,\n",
    "                     \"item\":product_description_MTB_helmets,\n",
    "                     \"price\":clean_prices_MTB_helmets ,\n",
    "                     \"oPrice\": clean_oldprices_MTB_helmets,\n",
    "                     \"isMIPS\" : isMIPS_MTB_helmets,\n",
    "                     \"year\":years_clean2_MTB_helmets }\n",
    "\n",
    "wiggle_MTB_helmets= pd.DataFrame(wiggle_MTB_helmets_dictionary)\n",
    "wiggle_MTB_helmets['oPrice'] = np.where(wiggle_MTB_helmets['oPrice'] == 0, wiggle_MTB_helmets['price'], wiggle_MTB_helmets['oPrice'])\n",
    "\n",
    "wiggle_MTB_helmets[[\"price\",\"oPrice\"]] = wiggle_MTB_helmets[[\"price\",\"oPrice\"]].apply(pd.to_numeric)\n",
    "\n",
    "\n",
    "#Creating a scoring system:\n",
    "wiggle_MTB_helmets[\"score_category\"] = (abs(len(wiggle_MTB_helmets) - np.array(wiggle_MTB_helmets.index))) / abs(len(wiggle_MTB_helmets))\n",
    "\n",
    "\n",
    "wiggle_MTB_helmets[\"category\"] = \"MTB_helmets\""
   ]
  },
  {
   "cell_type": "code",
   "execution_count": 190,
   "metadata": {},
   "outputs": [],
   "source": [
    "MTB_helmets = wiggle_MTB_helmets.merge(wiggle,how=\"left\")"
   ]
  },
  {
   "cell_type": "code",
   "execution_count": 191,
   "metadata": {},
   "outputs": [],
   "source": [
    "# pricing bins"
   ]
  },
  {
   "cell_type": "code",
   "execution_count": 192,
   "metadata": {},
   "outputs": [
    {
     "data": {
      "text/plain": [
       "count    150.000000\n",
       "mean     108.283000\n",
       "std       55.365549\n",
       "min       23.990000\n",
       "25%       59.990000\n",
       "50%       97.500000\n",
       "75%      139.000000\n",
       "max      265.000000\n",
       "Name: price, dtype: float64"
      ]
     },
     "execution_count": 192,
     "metadata": {},
     "output_type": "execute_result"
    }
   ],
   "source": [
    "MTB_helmets[\"price\"].describe()"
   ]
  },
  {
   "cell_type": "code",
   "execution_count": 193,
   "metadata": {},
   "outputs": [],
   "source": [
    "MTB_helmets[\"price_bin_description\"] = np.where(\n",
    "     MTB_helmets['price'].between(25, 50, inclusive=False), '25-50', \n",
    "     np.where(\n",
    "        MTB_helmets['price'].between(50, 75, inclusive=True), '50-75', \n",
    "        np.where(\n",
    "            MTB_helmets['price'].between(75, 100, inclusive=True), '75-100',\n",
    "            np.where(\n",
    "                MTB_helmets['price'].between(100, 125, inclusive=True), '100-125',\n",
    "                np.where(\n",
    "                MTB_helmets['price'].between(125, 150, inclusive=True), '125-150',\"more than 150\")))))"
   ]
  },
  {
   "cell_type": "code",
   "execution_count": 194,
   "metadata": {},
   "outputs": [],
   "source": [
    "MTB_helmets[\"price_bin\"] = np.where(\n",
    "     MTB_helmets['price'].between(25, 50, inclusive=False), 1, \n",
    "     np.where(\n",
    "        MTB_helmets['price'].between(50, 75, inclusive=True), 2, \n",
    "        np.where(\n",
    "            MTB_helmets['price'].between(75, 100, inclusive=True), 3,\n",
    "            np.where(\n",
    "                MTB_helmets['price'].between(100, 125, inclusive=True), 4,\n",
    "                np.where(\n",
    "                MTB_helmets['price'].between(125, 150, inclusive=True), 5,6)))))"
   ]
  },
  {
   "cell_type": "markdown",
   "metadata": {},
   "source": [
    "* **Full Face**"
   ]
  },
  {
   "cell_type": "code",
   "execution_count": 195,
   "metadata": {
    "scrolled": true
   },
   "outputs": [],
   "source": [
    "wiggle_full_face_dictionary = {\"original_name\": name_full_face,\n",
    "                               \"brand\":brands_clean_full_face,\n",
    "                     \"item\":product_description_full_face,\n",
    "                     \"price\":clean_prices_full_face,\n",
    "                     \"oPrice\": clean_oldprices_full_face,\n",
    "                     \"isMIPS\" : isMIPS_full_face,\n",
    "                     \"year\":years_clean2_full_face }\n",
    "\n",
    "wiggle_full_face= pd.DataFrame(wiggle_full_face_dictionary)\n",
    "wiggle_full_face['oPrice'] = np.where(wiggle_full_face['oPrice'] == 0, wiggle_full_face['price'], wiggle_full_face['oPrice'])\n",
    "\n",
    "wiggle_full_face[[\"price\",\"oPrice\"]] = wiggle_full_face[[\"price\",\"oPrice\"]].apply(pd.to_numeric)\n",
    "\n",
    "#Creating a scoring system:\n",
    "wiggle_full_face[\"score_category\"] = (abs(len(wiggle_full_face) - np.array(wiggle_full_face.index))) / abs(len(wiggle_full_face))\n",
    "\n",
    "wiggle_full_face[\"category\"] = \"full_face\""
   ]
  },
  {
   "cell_type": "code",
   "execution_count": 196,
   "metadata": {},
   "outputs": [],
   "source": [
    "full_face = wiggle_full_face.merge(wiggle,how=\"left\")"
   ]
  },
  {
   "cell_type": "code",
   "execution_count": 197,
   "metadata": {},
   "outputs": [],
   "source": [
    "# Pricing Bins"
   ]
  },
  {
   "cell_type": "code",
   "execution_count": 198,
   "metadata": {},
   "outputs": [
    {
     "data": {
      "text/plain": [
       "count     63.000000\n",
       "mean     228.744762\n",
       "std      113.058757\n",
       "min       41.990000\n",
       "25%      149.695000\n",
       "50%      224.100000\n",
       "75%      275.000000\n",
       "max      500.000000\n",
       "Name: price, dtype: float64"
      ]
     },
     "execution_count": 198,
     "metadata": {},
     "output_type": "execute_result"
    }
   ],
   "source": [
    "full_face[\"price\"].describe()"
   ]
  },
  {
   "cell_type": "code",
   "execution_count": 199,
   "metadata": {},
   "outputs": [],
   "source": [
    "full_face[\"price_bin_description\"] = np.where(\n",
    "     full_face['price'].between(0, 100, inclusive=False), '0-100', \n",
    "     np.where(\n",
    "        full_face['price'].between(100, 200, inclusive=True), '100-200', \n",
    "        np.where(\n",
    "            full_face['price'].between(200, 300, inclusive=True), '200-300',\"more than 300\")))"
   ]
  },
  {
   "cell_type": "code",
   "execution_count": 200,
   "metadata": {},
   "outputs": [],
   "source": [
    "full_face[\"price_bin\"] = np.where(\n",
    "     full_face['price'].between(0, 100, inclusive=False), 1, \n",
    "     np.where(\n",
    "        full_face['price'].between(100, 200, inclusive=True), 2, \n",
    "        np.where(\n",
    "            full_face['price'].between(200, 300, inclusive=True), 3,4)))"
   ]
  },
  {
   "cell_type": "markdown",
   "metadata": {},
   "source": [
    "* **Helmet Spares**"
   ]
  },
  {
   "cell_type": "code",
   "execution_count": 201,
   "metadata": {},
   "outputs": [],
   "source": [
    "wiggle_helmet_spares_dictionary = {\"original_name\": name_helmet_spares,\n",
    "                                   \"brand\":brands_clean_helmet_spares,\n",
    "                     \"item\":product_description_helmet_spares}\n",
    "\n",
    "wiggle_helmet_spares = pd.DataFrame(wiggle_helmet_spares_dictionary)"
   ]
  },
  {
   "cell_type": "code",
   "execution_count": 202,
   "metadata": {
    "scrolled": true
   },
   "outputs": [],
   "source": [
    "spare_pieces = wiggle_helmet_spares.merge(wiggle,how=\"left\")"
   ]
  },
  {
   "cell_type": "markdown",
   "metadata": {},
   "source": [
    "---"
   ]
  },
  {
   "cell_type": "markdown",
   "metadata": {},
   "source": [
    "* **Concatinating tables except spare parts**"
   ]
  },
  {
   "cell_type": "code",
   "execution_count": 203,
   "metadata": {},
   "outputs": [],
   "source": [
    "dataframes = [MTB_helmets,full_face,kids,dirt_jump]"
   ]
  },
  {
   "cell_type": "code",
   "execution_count": 204,
   "metadata": {},
   "outputs": [],
   "source": [
    "wiggle_final = pd.concat(dataframes)"
   ]
  },
  {
   "cell_type": "code",
   "execution_count": 245,
   "metadata": {},
   "outputs": [],
   "source": [
    "wiggle = wiggle_final.reset_index().drop(columns=\"index\")"
   ]
  },
  {
   "cell_type": "code",
   "execution_count": 267,
   "metadata": {},
   "outputs": [],
   "source": [
    "wiggle.price = wiggle.price.astype(np.float)\n",
    "wiggle.oPrice = wiggle.oPrice.astype(np.float)\n",
    "wiggle.price_bin = wiggle.price_bin.astype(np.str)"
   ]
  },
  {
   "cell_type": "code",
   "execution_count": 1,
   "metadata": {},
   "outputs": [
    {
     "ename": "NameError",
     "evalue": "name 'wiggle' is not defined",
     "output_type": "error",
     "traceback": [
      "\u001b[0;31m---------------------------------------------------------------------------\u001b[0m",
      "\u001b[0;31mNameError\u001b[0m                                 Traceback (most recent call last)",
      "\u001b[0;32m<ipython-input-1-a271c74227d3>\u001b[0m in \u001b[0;36m<module>\u001b[0;34m\u001b[0m\n\u001b[0;32m----> 1\u001b[0;31m \u001b[0mwiggle\u001b[0m\u001b[0;34m.\u001b[0m\u001b[0mhead\u001b[0m\u001b[0;34m(\u001b[0m\u001b[0;36m5\u001b[0m\u001b[0;34m)\u001b[0m\u001b[0;34m\u001b[0m\u001b[0;34m\u001b[0m\u001b[0m\n\u001b[0m",
      "\u001b[0;31mNameError\u001b[0m: name 'wiggle' is not defined"
     ]
    }
   ],
   "source": [
    "wiggle.head(5)"
   ]
  },
  {
   "cell_type": "markdown",
   "metadata": {},
   "source": [
    "---"
   ]
  },
  {
   "cell_type": "code",
   "execution_count": 274,
   "metadata": {},
   "outputs": [],
   "source": [
    "wiggle.to_csv(\"/Users/andresantaclara/Desktop/IronHack/FOX/Wiggle24112020.csv\")"
   ]
  },
  {
   "cell_type": "markdown",
   "metadata": {},
   "source": [
    "---"
   ]
  },
  {
   "cell_type": "markdown",
   "metadata": {},
   "source": [
    "## Statistical Analysis"
   ]
  },
  {
   "cell_type": "code",
   "execution_count": 4,
   "metadata": {},
   "outputs": [],
   "source": [
    "wiggle1 = pd.read_csv(\"/Users/andresantaclara/Desktop/IronHack/FOX/Wiggle24112020.csv\")"
   ]
  },
  {
   "cell_type": "code",
   "execution_count": 24,
   "metadata": {},
   "outputs": [
    {
     "data": {
      "text/html": [
       "<div>\n",
       "<style scoped>\n",
       "    .dataframe tbody tr th:only-of-type {\n",
       "        vertical-align: middle;\n",
       "    }\n",
       "\n",
       "    .dataframe tbody tr th {\n",
       "        vertical-align: top;\n",
       "    }\n",
       "\n",
       "    .dataframe thead th {\n",
       "        text-align: right;\n",
       "    }\n",
       "</style>\n",
       "<table border=\"1\" class=\"dataframe\">\n",
       "  <thead>\n",
       "    <tr style=\"text-align: right;\">\n",
       "      <th></th>\n",
       "      <th>Unnamed: 0</th>\n",
       "      <th>original_name</th>\n",
       "      <th>brand</th>\n",
       "      <th>item</th>\n",
       "      <th>price</th>\n",
       "      <th>oPrice</th>\n",
       "      <th>isMIPS</th>\n",
       "      <th>year</th>\n",
       "      <th>score_category</th>\n",
       "      <th>category</th>\n",
       "      <th>score_all_categories</th>\n",
       "      <th>price_bin_description</th>\n",
       "      <th>price_bin</th>\n",
       "      <th>Fox_vs_Others</th>\n",
       "    </tr>\n",
       "  </thead>\n",
       "  <tbody>\n",
       "    <tr>\n",
       "      <th>0</th>\n",
       "      <td>0</td>\n",
       "      <td>IXS Trail EVO Helmet Exclusive 2020</td>\n",
       "      <td>IXS</td>\n",
       "      <td>Trail EVO Helmet Exclusive 2020</td>\n",
       "      <td>53.99</td>\n",
       "      <td>89.99</td>\n",
       "      <td>0</td>\n",
       "      <td>2020</td>\n",
       "      <td>1.000000</td>\n",
       "      <td>MTB_helmets</td>\n",
       "      <td>0.995833</td>\n",
       "      <td>50-75</td>\n",
       "      <td>2.0</td>\n",
       "      <td>Others</td>\n",
       "    </tr>\n",
       "    <tr>\n",
       "      <th>1</th>\n",
       "      <td>1</td>\n",
       "      <td>Leatt MTB 2.0 Helmet 2021</td>\n",
       "      <td>Leatt</td>\n",
       "      <td>MTB 2.0 Helmet 2021</td>\n",
       "      <td>47.99</td>\n",
       "      <td>79.99</td>\n",
       "      <td>0</td>\n",
       "      <td>2021</td>\n",
       "      <td>0.993056</td>\n",
       "      <td>MTB_helmets</td>\n",
       "      <td>0.987500</td>\n",
       "      <td>25-50</td>\n",
       "      <td>1.0</td>\n",
       "      <td>Others</td>\n",
       "    </tr>\n",
       "    <tr>\n",
       "      <th>2</th>\n",
       "      <td>2</td>\n",
       "      <td>Fox Racing Dropframe Pro MTB Helmet AW20</td>\n",
       "      <td>Fox Racing</td>\n",
       "      <td>Dropframe Pro MTB Helmet AW20</td>\n",
       "      <td>180.00</td>\n",
       "      <td>180.00</td>\n",
       "      <td>0</td>\n",
       "      <td>2020</td>\n",
       "      <td>0.986111</td>\n",
       "      <td>MTB_helmets</td>\n",
       "      <td>0.983333</td>\n",
       "      <td>more than 150</td>\n",
       "      <td>6.0</td>\n",
       "      <td>Fox Racing</td>\n",
       "    </tr>\n",
       "    <tr>\n",
       "      <th>3</th>\n",
       "      <td>3</td>\n",
       "      <td>Fox Racing Speedframe Pro MTB Helmet (MIPS)</td>\n",
       "      <td>Fox Racing</td>\n",
       "      <td>Speedframe Pro MTB Helmet (MIPS)</td>\n",
       "      <td>139.00</td>\n",
       "      <td>139.00</td>\n",
       "      <td>1</td>\n",
       "      <td>Undefined</td>\n",
       "      <td>0.979167</td>\n",
       "      <td>MTB_helmets</td>\n",
       "      <td>0.979167</td>\n",
       "      <td>125-150</td>\n",
       "      <td>5.0</td>\n",
       "      <td>Fox Racing</td>\n",
       "    </tr>\n",
       "    <tr>\n",
       "      <th>4</th>\n",
       "      <td>4</td>\n",
       "      <td>POC Tectal MTB Helmet (Fabio Ed.) 2021</td>\n",
       "      <td>POC</td>\n",
       "      <td>Tectal MTB Helmet (Fabio Ed.) 2021</td>\n",
       "      <td>185.00</td>\n",
       "      <td>185.00</td>\n",
       "      <td>0</td>\n",
       "      <td>2021</td>\n",
       "      <td>0.972222</td>\n",
       "      <td>MTB_helmets</td>\n",
       "      <td>0.970833</td>\n",
       "      <td>more than 150</td>\n",
       "      <td>6.0</td>\n",
       "      <td>Others</td>\n",
       "    </tr>\n",
       "  </tbody>\n",
       "</table>\n",
       "</div>"
      ],
      "text/plain": [
       "   Unnamed: 0                                original_name       brand  \\\n",
       "0           0          IXS Trail EVO Helmet Exclusive 2020         IXS   \n",
       "1           1                    Leatt MTB 2.0 Helmet 2021       Leatt   \n",
       "2           2     Fox Racing Dropframe Pro MTB Helmet AW20  Fox Racing   \n",
       "3           3  Fox Racing Speedframe Pro MTB Helmet (MIPS)  Fox Racing   \n",
       "4           4       POC Tectal MTB Helmet (Fabio Ed.) 2021         POC   \n",
       "\n",
       "                                 item   price  oPrice  isMIPS       year  \\\n",
       "0     Trail EVO Helmet Exclusive 2020   53.99   89.99       0       2020   \n",
       "1                 MTB 2.0 Helmet 2021   47.99   79.99       0       2021   \n",
       "2       Dropframe Pro MTB Helmet AW20  180.00  180.00       0       2020   \n",
       "3    Speedframe Pro MTB Helmet (MIPS)  139.00  139.00       1  Undefined   \n",
       "4  Tectal MTB Helmet (Fabio Ed.) 2021  185.00  185.00       0       2021   \n",
       "\n",
       "   score_category     category  score_all_categories price_bin_description  \\\n",
       "0        1.000000  MTB_helmets              0.995833                 50-75   \n",
       "1        0.993056  MTB_helmets              0.987500                 25-50   \n",
       "2        0.986111  MTB_helmets              0.983333         more than 150   \n",
       "3        0.979167  MTB_helmets              0.979167               125-150   \n",
       "4        0.972222  MTB_helmets              0.970833         more than 150   \n",
       "\n",
       "   price_bin Fox_vs_Others  \n",
       "0        2.0        Others  \n",
       "1        1.0        Others  \n",
       "2        6.0    Fox Racing  \n",
       "3        5.0    Fox Racing  \n",
       "4        6.0        Others  "
      ]
     },
     "execution_count": 24,
     "metadata": {},
     "output_type": "execute_result"
    }
   ],
   "source": [
    "wiggle1.head(5)"
   ]
  },
  {
   "cell_type": "markdown",
   "metadata": {},
   "source": [
    "### Hypothesis testing - Comparing Fox brand to average of all other brands"
   ]
  },
  {
   "cell_type": "code",
   "execution_count": 16,
   "metadata": {},
   "outputs": [],
   "source": [
    "wiggle1[\"Fox_vs_Others\"] = np.where(wiggle1[\"brand\"] == \"Fox Racing\", \"Fox Racing\", \"Others\")"
   ]
  },
  {
   "cell_type": "markdown",
   "metadata": {},
   "source": [
    "* Is the avg price of Fox Racing brand is smaller than or equal to the avg price of all other brands "
   ]
  },
  {
   "cell_type": "code",
   "execution_count": 25,
   "metadata": {},
   "outputs": [
    {
     "data": {
      "text/plain": [
       "Fox_vs_Others\n",
       "Fox Racing    192.200000\n",
       "Others        149.042981\n",
       "Name: oPrice, dtype: float64"
      ]
     },
     "execution_count": 25,
     "metadata": {},
     "output_type": "execute_result"
    }
   ],
   "source": [
    "wiggle1.groupby(\"Fox_vs_Others\").oPrice.mean().sort_values(ascending = False)"
   ]
  },
  {
   "cell_type": "code",
   "execution_count": 26,
   "metadata": {},
   "outputs": [
    {
     "data": {
      "text/plain": [
       "Ttest_indResult(statistic=1.7063775244819332, pvalue=0.10171959172016952)"
      ]
     },
     "execution_count": 26,
     "metadata": {},
     "output_type": "execute_result"
    }
   ],
   "source": [
    "stats.ttest_ind(wiggle1[wiggle1.Fox_vs_Others == \"Fox Racing\"].oPrice,\n",
    "                wiggle1[wiggle1.Fox_vs_Others == \"Others\"].oPrice, equal_var = False)\n",
    "\n",
    "# p < 0.05 we dont reject the null that Fox is more expensive than other brands"
   ]
  },
  {
   "cell_type": "markdown",
   "metadata": {},
   "source": [
    "* Is the avg price of Fox Racing brand is smaller than or equal to the avg price of all other brands by sub-category"
   ]
  },
  {
   "cell_type": "code",
   "execution_count": 21,
   "metadata": {},
   "outputs": [
    {
     "data": {
      "text/plain": [
       "category\n",
       "full_face      256.424762\n",
       "MTB_helmets    121.095200\n",
       "dirt_jump       37.495000\n",
       "kids            34.174545\n",
       "Name: oPrice, dtype: float64"
      ]
     },
     "execution_count": 21,
     "metadata": {},
     "output_type": "execute_result"
    }
   ],
   "source": [
    "a = wiggle1.groupby(\"category\").oPrice.mean().sort_values(ascending = False)"
   ]
  },
  {
   "cell_type": "code",
   "execution_count": null,
   "metadata": {},
   "outputs": [],
   "source": []
  },
  {
   "cell_type": "code",
   "execution_count": null,
   "metadata": {},
   "outputs": [],
   "source": []
  },
  {
   "cell_type": "code",
   "execution_count": null,
   "metadata": {},
   "outputs": [],
   "source": []
  },
  {
   "cell_type": "code",
   "execution_count": null,
   "metadata": {},
   "outputs": [],
   "source": []
  },
  {
   "cell_type": "code",
   "execution_count": null,
   "metadata": {},
   "outputs": [],
   "source": []
  },
  {
   "cell_type": "code",
   "execution_count": null,
   "metadata": {},
   "outputs": [],
   "source": []
  },
  {
   "cell_type": "code",
   "execution_count": null,
   "metadata": {},
   "outputs": [],
   "source": []
  },
  {
   "cell_type": "code",
   "execution_count": null,
   "metadata": {},
   "outputs": [],
   "source": []
  },
  {
   "cell_type": "code",
   "execution_count": null,
   "metadata": {},
   "outputs": [],
   "source": []
  },
  {
   "cell_type": "code",
   "execution_count": null,
   "metadata": {},
   "outputs": [],
   "source": []
  },
  {
   "cell_type": "code",
   "execution_count": null,
   "metadata": {},
   "outputs": [],
   "source": []
  },
  {
   "cell_type": "code",
   "execution_count": null,
   "metadata": {},
   "outputs": [],
   "source": []
  },
  {
   "cell_type": "code",
   "execution_count": null,
   "metadata": {},
   "outputs": [],
   "source": []
  }
 ],
 "metadata": {
  "kernelspec": {
   "display_name": "Python 3",
   "language": "python",
   "name": "python3"
  },
  "language_info": {
   "codemirror_mode": {
    "name": "ipython",
    "version": 3
   },
   "file_extension": ".py",
   "mimetype": "text/x-python",
   "name": "python",
   "nbconvert_exporter": "python",
   "pygments_lexer": "ipython3",
   "version": "3.8.3"
  }
 },
 "nbformat": 4,
 "nbformat_minor": 4
}
